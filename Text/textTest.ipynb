{
 "cells": [
  {
   "cell_type": "code",
   "execution_count": 1,
   "id": "14532152-9d21-44fc-b4a0-be7d53e40a45",
   "metadata": {},
   "outputs": [],
   "source": [
    "import pandas as pd\n",
    "import numpy as np\n",
    "import seaborn as sns\n",
    "import matplotlib.pyplot as plt\n",
    "import re\n",
    "from tensorflow.keras.callbacks import EarlyStopping\n",
    "import warnings\n",
    "warnings.filterwarnings('ignore')\n",
    "import nltk\n",
    "from nltk.tokenize import word_tokenize\n",
    "from collections import Counter\n",
    "from keras.preprocessing import sequence\n",
    "from sklearn.model_selection import train_test_split\n",
    "from tensorflow.keras.models import Sequential\n",
    "from tensorflow.keras.layers import *\n",
    "from tensorflow.keras.preprocessing.sequence import pad_sequences\n",
    "from tensorflow.keras.preprocessing.text import Tokenizer\n",
    "from nltk.corpus import stopwords\n",
    "from nltk.stem import PorterStemmer\n",
    "from nltk import wordpunct_tokenize\n",
    "from nltk import FreqDist\n",
    "from sklearn.metrics import confusion_matrix, classification_report"
   ]
  },
  {
   "cell_type": "code",
   "execution_count": null,
   "id": "8806a27f-cba5-4836-907a-21488c49282b",
   "metadata": {},
   "outputs": [],
   "source": []
  },
  {
   "cell_type": "code",
   "execution_count": 2,
   "id": "9181fb92-d4ac-4237-b533-e1b10e73e958",
   "metadata": {},
   "outputs": [
    {
     "name": "stderr",
     "output_type": "stream",
     "text": [
      "[nltk_data] Downloading package punkt to\n",
      "[nltk_data]     C:\\Users\\arsal\\AppData\\Roaming\\nltk_data...\n",
      "[nltk_data]   Package punkt is already up-to-date!\n",
      "[nltk_data] Downloading package stopwords to\n",
      "[nltk_data]     C:\\Users\\arsal\\AppData\\Roaming\\nltk_data...\n",
      "[nltk_data]   Package stopwords is already up-to-date!\n"
     ]
    },
    {
     "data": {
      "text/plain": [
       "True"
      ]
     },
     "execution_count": 2,
     "metadata": {},
     "output_type": "execute_result"
    }
   ],
   "source": [
    "nltk.download('punkt')\n",
    "nltk.download('stopwords')"
   ]
  },
  {
   "cell_type": "code",
   "execution_count": 3,
   "id": "391d1968-bbba-4704-8f6c-cde7c5091fd0",
   "metadata": {},
   "outputs": [],
   "source": [
    "from keras.models import load_model, model_from_json"
   ]
  },
  {
   "cell_type": "code",
   "execution_count": 4,
   "id": "3825146b-1ad8-4b99-b148-00236682bdc9",
   "metadata": {},
   "outputs": [],
   "source": [
    "model = model_from_json(open(\"models/json/best_model.json\", \"r\").read())\n",
    "model.load_weights('models/json/best_model_weights.h5')"
   ]
  },
  {
   "cell_type": "code",
   "execution_count": 5,
   "id": "caa3d791-1b43-4ac6-8ef2-9c747fe7de2b",
   "metadata": {},
   "outputs": [],
   "source": [
    "model = load_model('models/best/best_model.h5')"
   ]
  },
  {
   "cell_type": "code",
   "execution_count": 6,
   "id": "54c25dbf-b8aa-48f8-b105-c706b6cbb2fd",
   "metadata": {},
   "outputs": [],
   "source": [
    "import pickle\n",
    "\n",
    "with open('data/tokenizer.pkl', 'rb') as f:\n",
    "    tokenizer = pickle.load(f)"
   ]
  },
  {
   "cell_type": "code",
   "execution_count": 7,
   "id": "92541fd4-ad01-4cd3-983b-991f2feaa9f5",
   "metadata": {},
   "outputs": [],
   "source": [
    "# Define a dictionary of chat word mappings\n",
    "chat_words = {\n",
    "    \"AFAIK\": \"As Far As I Know\",\n",
    "    \"AFK\": \"Away From Keyboard\",\n",
    "    \"ASAP\": \"As Soon As Possible\",\n",
    "    \"ATK\": \"At The Keyboard\",\n",
    "    \"ATM\": \"At The Moment\",\n",
    "    \"A3\": \"Anytime, Anywhere, Anyplace\",\n",
    "    \"BAK\": \"Back At Keyboard\",\n",
    "    \"BBL\": \"Be Back Later\",\n",
    "    \"BBS\": \"Be Back Soon\",\n",
    "    \"BFN\": \"Bye For Now\",\n",
    "    \"B4N\": \"Bye For Now\",\n",
    "    \"BRB\": \"Be Right Back\",\n",
    "    \"BRT\": \"Be Right There\",\n",
    "    \"BTW\": \"By The Way\",\n",
    "    \"B4\": \"Before\",\n",
    "    \"B4N\": \"Bye For Now\",\n",
    "    \"CU\": \"See You\",\n",
    "    \"CUL8R\": \"See You Later\",\n",
    "    \"CYA\": \"See You\",\n",
    "    \"FAQ\": \"Frequently Asked Questions\",\n",
    "    \"FC\": \"Fingers Crossed\",\n",
    "    \"FWIW\": \"For What It's Worth\",\n",
    "    \"FYI\": \"For Your Information\",\n",
    "    \"GAL\": \"Get A Life\",\n",
    "    \"GG\": \"Good Game\",\n",
    "    \"GN\": \"Good Night\",\n",
    "    \"GMTA\": \"Great Minds Think Alike\",\n",
    "    \"GR8\": \"Great!\",\n",
    "    \"G9\": \"Genius\",\n",
    "    \"IC\": \"I See\",\n",
    "    \"ICQ\": \"I Seek you (also a chat program)\",\n",
    "    \"ILU\": \"ILU: I Love You\",\n",
    "    \"IMHO\": \"In My Honest/Humble Opinion\",\n",
    "    \"IMO\": \"In My Opinion\",\n",
    "    \"IOW\": \"In Other Words\",\n",
    "    \"IRL\": \"In Real Life\",\n",
    "    \"KISS\": \"Keep It Simple, Stupid\",\n",
    "    \"LDR\": \"Long Distance Relationship\",\n",
    "    \"LMAO\": \"Laugh My A.. Off\",\n",
    "    \"LOL\": \"Laughing Out Loud\",\n",
    "    \"LTNS\": \"Long Time No See\",\n",
    "    \"L8R\": \"Later\",\n",
    "    \"MTE\": \"My Thoughts Exactly\",\n",
    "    \"M8\": \"Mate\",\n",
    "    \"NRN\": \"No Reply Necessary\",\n",
    "    \"OIC\": \"Oh I See\",\n",
    "    \"PITA\": \"Pain In The A..\",\n",
    "    \"PRT\": \"Party\",\n",
    "    \"PRW\": \"Parents Are Watching\",\n",
    "    \"QPSA?\": \"Que Pasa?\",\n",
    "    \"ROFL\": \"Rolling On The Floor Laughing\",\n",
    "    \"ROFLOL\": \"Rolling On The Floor Laughing Out Loud\",\n",
    "    \"ROTFLMAO\": \"Rolling On The Floor Laughing My A.. Off\",\n",
    "    \"SK8\": \"Skate\",\n",
    "    \"STATS\": \"Your sex and age\",\n",
    "    \"ASL\": \"Age, Sex, Location\",\n",
    "    \"THX\": \"Thank You\",\n",
    "    \"TTFN\": \"Ta-Ta For Now!\",\n",
    "    \"TTYL\": \"Talk To You Later\",\n",
    "    \"U\": \"You\",\n",
    "    \"U2\": \"You Too\",\n",
    "    \"U4E\": \"Yours For Ever\",\n",
    "    \"WB\": \"Welcome Back\",\n",
    "    \"WTF\": \"What The F...\",\n",
    "    \"WTG\": \"Way To Go!\",\n",
    "    \"WUF\": \"Where Are You From?\",\n",
    "    \"W8\": \"Wait...\",\n",
    "    \"7K\": \"Sick:-D Laugher\",\n",
    "    \"TFW\": \"That feeling when\",\n",
    "    \"MFW\": \"My face when\",\n",
    "    \"MRW\": \"My reaction when\",\n",
    "    \"IFYP\": \"I feel your pain\",\n",
    "    \"TNTL\": \"Trying not to laugh\",\n",
    "    \"JK\": \"Just kidding\",\n",
    "    \"IDC\": \"I don't care\",\n",
    "    \"ILY\": \"I love you\",\n",
    "    \"IMU\": \"I miss you\",\n",
    "    \"ADIH\": \"Another day in hell\",\n",
    "    \"ZZZ\": \"Sleeping, bored, tired\",\n",
    "    \"WYWH\": \"Wish you were here\",\n",
    "    \"TIME\": \"Tears in my eyes\",\n",
    "    \"BAE\": \"Before anyone else\",\n",
    "    \"FIMH\": \"Forever in my heart\",\n",
    "    \"BSAAW\": \"Big smile and a wink\",\n",
    "    \"BWL\": \"Bursting with laughter\",\n",
    "    \"BFF\": \"Best friends forever\",\n",
    "    \"CSL\": \"Can't stop laughing\"\n",
    "}"
   ]
  },
  {
   "cell_type": "code",
   "execution_count": 8,
   "id": "538fbfed-b521-46d8-a35d-6ef66a84d58c",
   "metadata": {},
   "outputs": [],
   "source": [
    "def replace_chat_words(text):\n",
    "    words = text.split()\n",
    "    for i, word in enumerate(words):\n",
    "        if word.lower() in chat_words:\n",
    "            words[i] = chat_words[word.lower()]\n",
    "    return ' '.join(words)\n",
    "\n",
    "def preprocess(text):\n",
    "    \n",
    "    text = replace_chat_words(text)\n",
    "\n",
    "    # Remove non-alphanumeric characters\n",
    "    text = re.sub(r'[^a-zA-Z\\s]', '', text)\n",
    "\n",
    "    # Convert text to lowercase\n",
    "    text = text.lower()\n",
    "    \n",
    "    # Remove stopwords\n",
    "    stop = stopwords.words('english')\n",
    "    text = ' '.join([word for word in text.split() if word not in stop])\n",
    "    \n",
    "    # Remove numbers\n",
    "    text = re.sub(r'\\d+', '', text)\n",
    "    \n",
    "    # Remove extra whitespaces\n",
    "    text = re.sub(r'\\s+', ' ', text)\n",
    "    \n",
    "    # Remove punctuation\n",
    "    text = re.sub(r'[^\\w\\s]', '', text)\n",
    "    \n",
    "    # Remove URLs\n",
    "    text = re.sub(r'http\\S+', '', text)\n",
    "    \n",
    "    # Apply stemming\n",
    "    stemmer = PorterStemmer()\n",
    "    words = word_tokenize(text)\n",
    "    stemmed_words = [stemmer.stem(word) for word in words]\n",
    "    text = ' '.join(stemmed_words)\n",
    "    \n",
    "    return text"
   ]
  },
  {
   "cell_type": "code",
   "execution_count": 9,
   "id": "5c356808-0b8b-4d7c-b53d-3d3484fea027",
   "metadata": {},
   "outputs": [],
   "source": [
    "str = 'I feel like I am very previledged to be a part of this society and want to contribute more to it.'"
   ]
  },
  {
   "cell_type": "code",
   "execution_count": 10,
   "id": "7ddabb97-ee82-43d8-b1ef-4add0907a448",
   "metadata": {},
   "outputs": [],
   "source": [
    "# Define a mapping dictionary\n",
    "label_mapping = {'hate':0, 'neutral':1, 'anger':2, 'love':3, 'worry':4, 'relief':5, 'happiness':6,\n",
    "       'fun':7, 'empty':8, 'enthusiasm':9, 'sadness':9, 'surprise':10}\n",
    "\n",
    "emotion_dict = {v: k for k, v in label_mapping.items()}\n",
    "\n",
    "def predict(text):\n",
    "    text = preprocess(text)\n",
    "    # Tokenize the preprocessed text\n",
    "    X_sequences = tokenizer.texts_to_sequences([text])\n",
    "    X_padded = pad_sequences(X_sequences, maxlen=79, padding='post')\n",
    "\n",
    "    # Make predictions using the loaded model\n",
    "    predict_proba = model.predict(X_padded)\n",
    "    \n",
    "    # Get the index of the class with the highest probability\n",
    "    predicted_class_index = np.argmax(predict_proba)\n",
    "\n",
    "    emotion = emotion_dict[predicted_class_index]\n",
    "\n",
    "    return emotion"
   ]
  },
  {
   "cell_type": "code",
   "execution_count": 11,
   "id": "c4f2f07d-f1e0-44ed-a717-73c1d7da4fc7",
   "metadata": {},
   "outputs": [],
   "source": [
    "custom_text = \"In the bustling city streets, she walked with a steady pace, her lovely gaze fixed on the ground ahead. Amidst the chaos, she remained untouched, a silent observer in the crowd. Her expression masked any hint of emotion, a veil of neutrality cloaking her thoughts and feelings from prying eyes and thats when I realized I am in love with her.\""
   ]
  },
  {
   "cell_type": "code",
   "execution_count": 12,
   "id": "bc7d9de6-c3d6-4e41-9c65-b96a3b932c19",
   "metadata": {},
   "outputs": [],
   "source": [
    "predicted_sentiment = predict(custom_text)"
   ]
  },
  {
   "cell_type": "code",
   "execution_count": 14,
   "id": "f5e107ec-1366-49ba-8f3a-1d82232d1b12",
   "metadata": {},
   "outputs": [
    {
     "name": "stdout",
     "output_type": "stream",
     "text": [
      "Predicted sentiment: Love\n"
     ]
    }
   ],
   "source": [
    "print(\"Predicted sentiment:\", predicted_sentiment.title())"
   ]
  },
  {
   "cell_type": "code",
   "execution_count": null,
   "id": "424f01bb-6b0d-4dbb-b015-bccbdc46a09c",
   "metadata": {},
   "outputs": [],
   "source": []
  },
  {
   "cell_type": "code",
   "execution_count": 27,
   "id": "d2b7ab74-7a5d-4409-ad3d-72c7ce8914f5",
   "metadata": {},
   "outputs": [],
   "source": [
    "import pickle\n",
    "\n",
    "with open('data/tokenizer.pkl', 'rb') as f:\n",
    "    tokenizer = pickle.load(f)"
   ]
  },
  {
   "cell_type": "code",
   "execution_count": 25,
   "id": "5624a409-a0a5-44d0-9267-94a4f32696db",
   "metadata": {},
   "outputs": [],
   "source": [
    "text = preprocess(custom_text)"
   ]
  },
  {
   "cell_type": "raw",
   "id": "cc0970f7-2647-4f66-9e26-6ace42eb4691",
   "metadata": {},
   "source": [
    "\n",
    "# Tokenize the preprocessed text\n",
    "tokenizer = Tokenizer(num_words=60000)\n",
    "tokenizer.fit_on_texts(text)"
   ]
  },
  {
   "cell_type": "code",
   "execution_count": 58,
   "id": "8affb4f4-9685-4079-a586-05945d7cc712",
   "metadata": {},
   "outputs": [],
   "source": [
    "# Convert text sequences to padded sequences\n",
    "X_sequences = tokenizer.texts_to_sequences([text])"
   ]
  },
  {
   "cell_type": "code",
   "execution_count": 59,
   "id": "86017147-3f83-4529-a045-1d75d165b181",
   "metadata": {},
   "outputs": [
    {
     "data": {
      "text/plain": [
       "[[867, 68, 18, 1105, 740, 1, 867, 503, 902]]"
      ]
     },
     "execution_count": 59,
     "metadata": {},
     "output_type": "execute_result"
    }
   ],
   "source": [
    "X_sequences"
   ]
  },
  {
   "cell_type": "code",
   "execution_count": 69,
   "id": "20555c29-7ed5-4236-afe7-c5a439022c8e",
   "metadata": {},
   "outputs": [],
   "source": [
    "maxlen = max(len(tokens) for tokens in X_sequences)\n",
    "X_padded = pad_sequences(X_sequences, maxlen=79, padding='post')"
   ]
  },
  {
   "cell_type": "code",
   "execution_count": 70,
   "id": "5674c5ee-71f6-4b4f-92de-b857d0b20470",
   "metadata": {},
   "outputs": [
    {
     "data": {
      "text/plain": [
       "9"
      ]
     },
     "execution_count": 70,
     "metadata": {},
     "output_type": "execute_result"
    }
   ],
   "source": [
    "maxlen"
   ]
  },
  {
   "cell_type": "code",
   "execution_count": 71,
   "id": "9996bd7c-6062-46e9-84ca-e7ffbe584cac",
   "metadata": {},
   "outputs": [],
   "source": [
    "# Define a mapping dictionary\n",
    "label_mapping = {'hate':0, 'neutral':1, 'anger':2, 'love':3, 'worry':4, 'relief':5, 'happiness':6,\n",
    "       'fun':7, 'empty':8, 'enthusiasm':9, 'sadness':9, 'surprise':10}\n",
    "\n",
    "emotion_dict = {v: k for k, v in label_mapping.items()}"
   ]
  },
  {
   "cell_type": "code",
   "execution_count": null,
   "id": "cce92ba8-a00c-4c16-9ac4-0144873c0bb8",
   "metadata": {},
   "outputs": [],
   "source": []
  },
  {
   "cell_type": "code",
   "execution_count": 72,
   "id": "66ca27ca-3c19-4449-af35-8655429adce8",
   "metadata": {},
   "outputs": [],
   "source": [
    "predicted_probabilities = model.predict(X_padded)"
   ]
  },
  {
   "cell_type": "code",
   "execution_count": 73,
   "id": "e5bcdb91-6ccc-4a57-878d-97c0a4cf6848",
   "metadata": {},
   "outputs": [
    {
     "data": {
      "text/plain": [
       "'Hate'"
      ]
     },
     "execution_count": 73,
     "metadata": {},
     "output_type": "execute_result"
    }
   ],
   "source": [
    "emotion_dict[np.argmax(predicted_probabilities)].title()"
   ]
  },
  {
   "cell_type": "code",
   "execution_count": 26,
   "id": "7d67bef7-a961-4342-94ee-58df7ab57481",
   "metadata": {},
   "outputs": [],
   "source": [
    "def get_text_info(text):\n",
    "    words = wordpunct_tokenize(text)\n",
    "    common_words = FreqDist(words).most_common(10)\n",
    "    num_words = len(text.split())\n",
    "    return common_words, num_words"
   ]
  },
  {
   "cell_type": "code",
   "execution_count": 27,
   "id": "d8505e64-b002-45f1-b09c-771538721a67",
   "metadata": {},
   "outputs": [],
   "source": [
    "common, num = get_text_info(text)"
   ]
  },
  {
   "cell_type": "code",
   "execution_count": 28,
   "id": "2ea3cb7b-0386-424d-ab97-82b3419e8d0b",
   "metadata": {},
   "outputs": [
    {
     "data": {
      "text/plain": [
       "[('love', 2),\n",
       " ('bustl', 1),\n",
       " ('citi', 1),\n",
       " ('street', 1),\n",
       " ('walk', 1),\n",
       " ('steadi', 1),\n",
       " ('pace', 1),\n",
       " ('gaze', 1),\n",
       " ('fix', 1),\n",
       " ('ground', 1)]"
      ]
     },
     "execution_count": 28,
     "metadata": {},
     "output_type": "execute_result"
    }
   ],
   "source": [
    "common"
   ]
  },
  {
   "cell_type": "code",
   "execution_count": 29,
   "id": "85e800fb-e084-4184-8dff-88d81ab16ff3",
   "metadata": {},
   "outputs": [
    {
     "data": {
      "text/plain": [
       "32"
      ]
     },
     "execution_count": 29,
     "metadata": {},
     "output_type": "execute_result"
    }
   ],
   "source": [
    "num"
   ]
  },
  {
   "cell_type": "code",
   "execution_count": null,
   "id": "9ce98221-0249-4e1b-8a8a-1196ea67a562",
   "metadata": {},
   "outputs": [],
   "source": []
  },
  {
   "cell_type": "code",
   "execution_count": 30,
   "id": "ca53ca6f-f46e-4bbb-a677-4816038aa43f",
   "metadata": {},
   "outputs": [
    {
     "data": {
      "text/plain": [
       "['love', 'bustl', 'citi']"
      ]
     },
     "execution_count": 30,
     "metadata": {},
     "output_type": "execute_result"
    }
   ],
   "source": [
    "count = {}\n",
    "for emo, num in common:\n",
    "    count[emo] = num\n",
    "\n",
    "count = sorted(count.items(), key=lambda x: x[1], reverse=True)\n",
    "\n",
    "top_three = [item[0] for item in count[:3]]\n",
    "\n",
    "top_three"
   ]
  },
  {
   "cell_type": "code",
   "execution_count": 34,
   "id": "0692eff5-4456-40a3-9480-44e7aa8a8367",
   "metadata": {},
   "outputs": [],
   "source": [
    "def get_top(text):\n",
    "    words = wordpunct_tokenize(text)\n",
    "    common_words = FreqDist(words).most_common(10)\n",
    "    num_words = len(text.split())\n",
    "    \n",
    "    count_words = {}\n",
    "    for emo, num in common_words:\n",
    "        count_words[emo] = num\n",
    "    top = sorted(count_words.items(), key=lambda x: x[1], reverse=True)\n",
    "    top = [item[0] for item in top[:5]]\n",
    "\n",
    "    return top, num_words"
   ]
  },
  {
   "cell_type": "code",
   "execution_count": 35,
   "id": "27a5c157-ddc5-43d3-8e68-2e31b63b654f",
   "metadata": {},
   "outputs": [],
   "source": [
    "common_words, num_words = get_top(text)"
   ]
  },
  {
   "cell_type": "code",
   "execution_count": 37,
   "id": "4146cf44-31a5-473a-ab05-76a5a7f8a95b",
   "metadata": {},
   "outputs": [
    {
     "data": {
      "text/plain": [
       "['love', 'bustl', 'citi', 'street', 'walk']"
      ]
     },
     "execution_count": 37,
     "metadata": {},
     "output_type": "execute_result"
    }
   ],
   "source": [
    "common_words"
   ]
  },
  {
   "cell_type": "code",
   "execution_count": 38,
   "id": "a9d0620c-eb9f-4562-a152-135be4fba25a",
   "metadata": {},
   "outputs": [
    {
     "data": {
      "text/plain": [
       "32"
      ]
     },
     "execution_count": 38,
     "metadata": {},
     "output_type": "execute_result"
    }
   ],
   "source": [
    "num_words"
   ]
  },
  {
   "cell_type": "code",
   "execution_count": 173,
   "id": "524473d5-1955-4979-b199-ea7041306053",
   "metadata": {},
   "outputs": [],
   "source": []
  },
  {
   "cell_type": "code",
   "execution_count": 174,
   "id": "3e951abd-37aa-4b24-b4db-ff6fe83f5700",
   "metadata": {},
   "outputs": [
    {
     "data": {
      "text/plain": [
       "['love', 'bustl', 'citi']"
      ]
     },
     "execution_count": 174,
     "metadata": {},
     "output_type": "execute_result"
    }
   ],
   "source": []
  },
  {
   "cell_type": "code",
   "execution_count": null,
   "id": "8650192e-4c09-4e28-8418-fc542fa7378e",
   "metadata": {},
   "outputs": [],
   "source": []
  }
 ],
 "metadata": {
  "kernelspec": {
   "display_name": "text39",
   "language": "python",
   "name": "text39"
  },
  "language_info": {
   "codemirror_mode": {
    "name": "ipython",
    "version": 3
   },
   "file_extension": ".py",
   "mimetype": "text/x-python",
   "name": "python",
   "nbconvert_exporter": "python",
   "pygments_lexer": "ipython3",
   "version": "3.9.18"
  }
 },
 "nbformat": 4,
 "nbformat_minor": 5
}
